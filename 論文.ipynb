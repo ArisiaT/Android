{
  "nbformat": 4,
  "nbformat_minor": 0,
  "metadata": {
    "colab": {
      "name": "論文.ipynb",
      "provenance": [],
      "collapsed_sections": [],
      "authorship_tag": "ABX9TyM+ytp0O3TtLRzZwHRjwHKb",
      "include_colab_link": true
    },
    "kernelspec": {
      "name": "python3",
      "display_name": "Python 3"
    }
  },
  "cells": [
    {
      "cell_type": "markdown",
      "metadata": {
        "id": "view-in-github",
        "colab_type": "text"
      },
      "source": [
        "<a href=\"https://colab.research.google.com/github/ArisiaT/Android/blob/master/%E8%AB%96%E6%96%87.ipynb\" target=\"_parent\"><img src=\"https://colab.research.google.com/assets/colab-badge.svg\" alt=\"Open In Colab\"/></a>"
      ]
    },
    {
      "cell_type": "markdown",
      "metadata": {
        "id": "4JAJVmqAXae9"
      },
      "source": [
        ""
      ]
    },
    {
      "cell_type": "markdown",
      "metadata": {
        "id": "4uMDZpDSXcIn"
      },
      "source": [
        "論文の（7）のコード"
      ]
    },
    {
      "cell_type": "code",
      "metadata": {
        "id": "fmL6Cb7mhaDR"
      },
      "source": [
        "import math\n",
        "\n",
        "list_A= [1,2,3,4,5]  #for test"
      ],
      "execution_count": null,
      "outputs": []
    },
    {
      "cell_type": "code",
      "metadata": {
        "id": "D6a0gqsp9fJc"
      },
      "source": [
        "\n",
        "def sig(list_i) :   # sum sigma\n",
        "  result = 0\n",
        "  for i in list_i :\n",
        "    result = result + i\n",
        "  return result\n"
      ],
      "execution_count": null,
      "outputs": []
    },
    {
      "cell_type": "code",
      "metadata": {
        "id": "ulItd6elhAde"
      },
      "source": [
        "def siglog1(list_i) : # sum sigma(log)\n",
        "  result = 0\n",
        "  for i in range(len(list_i)) :\n",
        "    list_A[i] = math.log(list_A[i])\n",
        "  for a in list_i :\n",
        "    result = result + a\n",
        "  return result"
      ],
      "execution_count": null,
      "outputs": []
    },
    {
      "cell_type": "code",
      "metadata": {
        "id": "ZimBkJxJl2qk"
      },
      "source": [
        "def siglogP(list_i) : # sum sigma(|log|)\n",
        "  result = 0\n",
        "  for i in range(len(list_i)) :\n",
        "    list_A[i] = math.log(list_A[i])\n",
        "  for a in list_i :\n",
        "    if a < 0 :\n",
        "      a = a * -1\n",
        "    result = result + a\n",
        "  return result"
      ],
      "execution_count": 35,
      "outputs": []
    }
  ]
}