{
  "nbformat": 4,
  "nbformat_minor": 0,
  "metadata": {
    "colab": {
      "name": "論文.ipynb",
      "provenance": [],
      "collapsed_sections": [],
      "authorship_tag": "ABX9TyObqzxp8zGi7Nrf6w/a3/5M",
      "include_colab_link": true
    },
    "kernelspec": {
      "name": "python3",
      "display_name": "Python 3"
    }
  },
  "cells": [
    {
      "cell_type": "markdown",
      "metadata": {
        "id": "view-in-github",
        "colab_type": "text"
      },
      "source": [
        "<a href=\"https://colab.research.google.com/github/ArisiaT/Android/blob/master/%E8%AB%96%E6%96%87.ipynb\" target=\"_parent\"><img src=\"https://colab.research.google.com/assets/colab-badge.svg\" alt=\"Open In Colab\"/></a>"
      ]
    },
    {
      "cell_type": "markdown",
      "metadata": {
        "id": "4JAJVmqAXae9"
      },
      "source": [
        ""
      ]
    },
    {
      "cell_type": "markdown",
      "metadata": {
        "id": "4uMDZpDSXcIn"
      },
      "source": [
        "論文の（7）のコード"
      ]
    },
    {
      "cell_type": "code",
      "metadata": {
        "id": "fmL6Cb7mhaDR"
      },
      "source": [
        "import numpy as np   # load numpy"
      ],
      "execution_count": 52,
      "outputs": []
    },
    {
      "cell_type": "code",
      "metadata": {
        "id": "dWINkkviQNlH"
      },
      "source": [
        "list_A = [1,2,3,4,5]\n",
        "list_B = [2,4,6,8,10]\n",
        "list_C = [-2,-1,1,2]\n",
        "list_D = [-2,0,1,2,3,4,5]  "
      ],
      "execution_count": 53,
      "outputs": []
    },
    {
      "cell_type": "code",
      "metadata": {
        "id": "wsV_EUMmS5tp"
      },
      "source": [
        "def Slog(list_i,i) :\n",
        "  return np.log(list_i[i])"
      ],
      "execution_count": 54,
      "outputs": []
    },
    {
      "cell_type": "code",
      "metadata": {
        "id": "D6a0gqsp9fJc"
      },
      "source": [
        "def sig(list_i) :   # sum sigma\n",
        "  result = 0\n",
        "  for i in list_i :\n",
        "    result = result + i\n",
        "  return result"
      ],
      "execution_count": 55,
      "outputs": []
    },
    {
      "cell_type": "code",
      "metadata": {
        "id": "yK69iGpcPS0H"
      },
      "source": [
        "def siglog1(list_i) : # sum sigma(log)\n",
        "  result = 0\n",
        "  list_Z = []\n",
        "  for i in range(len(list_i)) :\n",
        "     list_Z.append(Slog(list_i,i))\n",
        "  result = sig(list_Z)\n",
        "  return result"
      ],
      "execution_count": 56,
      "outputs": []
    },
    {
      "cell_type": "code",
      "metadata": {
        "id": "QJ_V4WQJQneS"
      },
      "source": [
        "def siglogP(list_i) : # sum |sigma(log)|\n",
        "  result = 0\n",
        "  list_Z = []\n",
        "  for i in range(len(list_i)) :\n",
        "     list_Z.append(Slog(list_i,i))\n",
        "  result = sig(list_Z)\n",
        "  if result < 0 :\n",
        "    result = result * -1\n",
        "  return result"
      ],
      "execution_count": 57,
      "outputs": []
    },
    {
      "cell_type": "code",
      "metadata": {
        "id": "0FYx7dUYQwJR",
        "outputId": "277af48f-4792-4919-afb4-fe27734dcd22",
        "colab": {
          "base_uri": "https://localhost:8080/",
          "height": 35
        }
      },
      "source": [
        "siglog1(list_A)"
      ],
      "execution_count": 58,
      "outputs": [
        {
          "output_type": "execute_result",
          "data": {
            "text/plain": [
              "4.787491742782046"
            ]
          },
          "metadata": {
            "tags": []
          },
          "execution_count": 58
        }
      ]
    },
    {
      "cell_type": "code",
      "metadata": {
        "id": "E0l3SI6QTSnt",
        "outputId": "5b94c8ae-61a3-4a2e-876e-86b8b91ddf34",
        "colab": {
          "base_uri": "https://localhost:8080/",
          "height": 35
        }
      },
      "source": [
        "list_A"
      ],
      "execution_count": 59,
      "outputs": [
        {
          "output_type": "execute_result",
          "data": {
            "text/plain": [
              "[1, 2, 3, 4, 5]"
            ]
          },
          "metadata": {
            "tags": []
          },
          "execution_count": 59
        }
      ]
    }
  ]
}