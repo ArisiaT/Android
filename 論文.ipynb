{
  "nbformat": 4,
  "nbformat_minor": 0,
  "metadata": {
    "colab": {
      "name": "論文.ipynb",
      "provenance": [],
      "collapsed_sections": [],
      "authorship_tag": "ABX9TyPHYg/rPRMV4HRSSdkvbsyl",
      "include_colab_link": true
    },
    "kernelspec": {
      "name": "python3",
      "display_name": "Python 3"
    }
  },
  "cells": [
    {
      "cell_type": "markdown",
      "metadata": {
        "id": "view-in-github",
        "colab_type": "text"
      },
      "source": [
        "<a href=\"https://colab.research.google.com/github/ArisiaT/Android/blob/master/%E8%AB%96%E6%96%87.ipynb\" target=\"_parent\"><img src=\"https://colab.research.google.com/assets/colab-badge.svg\" alt=\"Open In Colab\"/></a>"
      ]
    },
    {
      "cell_type": "markdown",
      "metadata": {
        "id": "4JAJVmqAXae9"
      },
      "source": [
        ""
      ]
    },
    {
      "cell_type": "markdown",
      "metadata": {
        "id": "4uMDZpDSXcIn"
      },
      "source": [
        "論文の（7）のコード"
      ]
    },
    {
      "cell_type": "code",
      "metadata": {
        "id": "fmL6Cb7mhaDR"
      },
      "source": [
        "import numpy as np   # load numpy"
      ],
      "execution_count": 1,
      "outputs": []
    },
    {
      "cell_type": "code",
      "metadata": {
        "id": "dWINkkviQNlH"
      },
      "source": [
        "list_A = [1,2,3,4,5]\n",
        "list_B = [2,4,6,8,10]\n",
        "list_C = [-2,-1,1,2]\n",
        "list_D = [-2,0,1,2,3,4,5]  \n",
        "list_Z = [] #for test"
      ],
      "execution_count": null,
      "outputs": []
    },
    {
      "cell_type": "code",
      "metadata": {
        "id": "D6a0gqsp9fJc"
      },
      "source": [
        "def sig(list_i) :   # sum sigma\n",
        "  result = 0\n",
        "  for i in list_i :\n",
        "    result = result + i\n",
        "  return result\n",
        "\n"
      ],
      "execution_count": 2,
      "outputs": []
    },
    {
      "cell_type": "code",
      "metadata": {
        "id": "ulItd6elhAde"
      },
      "source": [
        "def Slog(list_i,i) :\n",
        "  list_i[i] = np.log(list_i[i])\n",
        "  return list_i[i]"
      ],
      "execution_count": 3,
      "outputs": []
    },
    {
      "cell_type": "code",
      "metadata": {
        "id": "yK69iGpcPS0H"
      },
      "source": [
        "def siglog2(list_i) : # sum sigma(log)\n",
        "  result = 0\n",
        "  for i in range(len(list_i)) :\n",
        "    Slog(list_i,i-1)\n",
        "  for a in list_i :\n",
        "    result = result + a\n",
        "  return result"
      ],
      "execution_count": 4,
      "outputs": []
    },
    {
      "cell_type": "code",
      "metadata": {
        "id": "obxszoiIe3EG"
      },
      "source": [
        "def siglogP(list_i) : # sum |sigma(log)|\n",
        "  result = 0\n",
        "  for i in range(len(list_i)) :\n",
        "    Slog(list_i,i-1)\n",
        "  for a in list_i :\n",
        "    result = result + a\n",
        "  if result < 0 :\n",
        "    result = result * -1\n",
        "  return result"
      ],
      "execution_count": null,
      "outputs": []
    }
  ]
}