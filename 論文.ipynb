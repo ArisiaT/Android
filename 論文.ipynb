{
  "nbformat": 4,
  "nbformat_minor": 0,
  "metadata": {
    "colab": {
      "name": "論文.ipynb",
      "provenance": [],
      "collapsed_sections": [],
      "authorship_tag": "ABX9TyO/eAzQ2hBSBEhUJ1p5wQKC",
      "include_colab_link": true
    },
    "kernelspec": {
      "name": "python3",
      "display_name": "Python 3"
    }
  },
  "cells": [
    {
      "cell_type": "markdown",
      "metadata": {
        "id": "view-in-github",
        "colab_type": "text"
      },
      "source": [
        "<a href=\"https://colab.research.google.com/github/ArisiaT/Android/blob/master/%E8%AB%96%E6%96%87.ipynb\" target=\"_parent\"><img src=\"https://colab.research.google.com/assets/colab-badge.svg\" alt=\"Open In Colab\"/></a>"
      ]
    },
    {
      "cell_type": "markdown",
      "metadata": {
        "id": "4JAJVmqAXae9"
      },
      "source": [
        ""
      ]
    },
    {
      "cell_type": "markdown",
      "metadata": {
        "id": "4uMDZpDSXcIn"
      },
      "source": [
        "論文の（7）のコード"
      ]
    },
    {
      "cell_type": "code",
      "metadata": {
        "id": "fmL6Cb7mhaDR"
      },
      "source": [
        "import numpy as np   # load numpy"
      ],
      "execution_count": 37,
      "outputs": []
    },
    {
      "cell_type": "code",
      "metadata": {
        "id": "dWINkkviQNlH"
      },
      "source": [
        "list_A = [1,2,3,4,5]\n",
        "list_B = [2,4,6,8,10]\n",
        "list_C = [-2,-1,1,2]\n",
        "list_D = [-2,0,1,2,3,4,5]  \n",
        "list_Z = [] #for dummy"
      ],
      "execution_count": 38,
      "outputs": []
    },
    {
      "cell_type": "code",
      "metadata": {
        "id": "wsV_EUMmS5tp"
      },
      "source": [
        "def Slog(list_i,i) :\n",
        "  list_i[i] = np.log(list_i[i])\n",
        "  return list_i[i]"
      ],
      "execution_count": 39,
      "outputs": []
    },
    {
      "cell_type": "code",
      "metadata": {
        "id": "D6a0gqsp9fJc"
      },
      "source": [
        "def sig(list_i) :   # sum sigma\n",
        "  result = 0\n",
        "  for i in list_i :\n",
        "    result = result + i\n",
        "  return result"
      ],
      "execution_count": 40,
      "outputs": []
    },
    {
      "cell_type": "code",
      "metadata": {
        "id": "yK69iGpcPS0H"
      },
      "source": [
        "def siglog2(list_i) : # sum sigma(log)\n",
        "  result = 0\n",
        "  for i in range(len(list_i)) :\n",
        "    Slog(list_i,i-1)\n",
        "  for a in list_i :\n",
        "    result = result + a\n",
        "  return result"
      ],
      "execution_count": 41,
      "outputs": []
    },
    {
      "cell_type": "code",
      "metadata": {
        "id": "QJ_V4WQJQneS"
      },
      "source": [
        "def siglog1(list_i) : # sum sigma(log)\n",
        "  result = 0\n",
        "  for i in range(len(list_i)) :\n",
        "    Slog(list_i,i-1)\n",
        "  result = sig(list_i)\n",
        "  return result"
      ],
      "execution_count": 42,
      "outputs": []
    },
    {
      "cell_type": "code",
      "metadata": {
        "id": "CLbHnvlKTG5L"
      },
      "source": [
        "def siglogP(list_i) : # sum |sigma(log)|\n",
        "  result = 0\n",
        "  for i in range(len(list_i)) :\n",
        "    Slog(list_i,i-1)\n",
        "  for a in list_i :\n",
        "    result = result + a\n",
        "  if result < 0 :\n",
        "    result = result * -1\n",
        "  return result"
      ],
      "execution_count": 43,
      "outputs": []
    },
    {
      "cell_type": "code",
      "metadata": {
        "id": "0FYx7dUYQwJR",
        "outputId": "76ec359a-aa68-41e4-cd3f-8a6c7ac33f35",
        "colab": {
          "base_uri": "https://localhost:8080/",
          "height": 35
        }
      },
      "source": [
        "siglog1(list_A)"
      ],
      "execution_count": 44,
      "outputs": [
        {
          "output_type": "execute_result",
          "data": {
            "text/plain": [
              "4.787491742782046"
            ]
          },
          "metadata": {
            "tags": []
          },
          "execution_count": 44
        }
      ]
    },
    {
      "cell_type": "code",
      "metadata": {
        "id": "E0l3SI6QTSnt",
        "outputId": "afb07cb8-5047-42ef-ecff-8149fff29777",
        "colab": {
          "base_uri": "https://localhost:8080/",
          "height": 107
        }
      },
      "source": [
        "list_A"
      ],
      "execution_count": 45,
      "outputs": [
        {
          "output_type": "execute_result",
          "data": {
            "text/plain": [
              "[0.0,\n",
              " 0.6931471805599453,\n",
              " 1.0986122886681098,\n",
              " 1.3862943611198906,\n",
              " 1.6094379124341003]"
            ]
          },
          "metadata": {
            "tags": []
          },
          "execution_count": 45
        }
      ]
    },
    {
      "cell_type": "code",
      "metadata": {
        "id": "b6v11ug9RBQU",
        "outputId": "b621e0a1-d66b-417f-a8f8-e00ccbbef330",
        "colab": {
          "base_uri": "https://localhost:8080/",
          "height": 71
        }
      },
      "source": [
        "siglog2(list_A)"
      ],
      "execution_count": null,
      "outputs": [
        {
          "output_type": "stream",
          "text": [
            "/usr/local/lib/python3.6/dist-packages/ipykernel_launcher.py:2: RuntimeWarning: invalid value encountered in log\n",
            "  \n"
          ],
          "name": "stderr"
        },
        {
          "output_type": "execute_result",
          "data": {
            "text/plain": [
              "nan"
            ]
          },
          "metadata": {
            "tags": []
          },
          "execution_count": 20
        }
      ]
    }
  ]
}